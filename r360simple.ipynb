{
 "cells": [
  {
   "cell_type": "code",
   "execution_count": 58,
   "metadata": {
    "collapsed": false
   },
   "outputs": [],
   "source": [
    "import pandas as pd\n",
    "import numpy as np\n",
    "import matplotlib.pyplot as plt\n",
    "%matplotlib inline\n",
    "user_info = pd.read_table('d:\\\\data\\\\user_info.txt',sep=',',header=0)\n",
    "rong_tag = pd.read_table('d:\\\\data\\\\rong_tag.txt',sep=',',header=0)\n",
    "relation1 = pd.read_table('d:\\\\data\\\\relation1.txt',sep=',',header=0)\n",
    "relation2 = pd.read_table('d:\\\\data\\\\relation2.txt',sep=',',header=0)\n",
    "consum = pd.read_table('d:\\\\data\\\\consumption_recode.txt',sep=',',header=0)\n",
    "train =  pd.read_table('d:\\\\data\\\\train.txt',sep=',',header=0)\n",
    "test = pd.read_table('d:\\\\data\\\\test.txt',sep=',',header=0)\n"
   ]
  },
  {
   "cell_type": "code",
   "execution_count": 260,
   "metadata": {
    "collapsed": false
   },
   "outputs": [],
   "source": [
    "train_x = train['user_id']\n",
    "train_y = train['lable']\n",
    "test_x = test['user_id']\n"
   ]
  },
  {
   "cell_type": "code",
   "execution_count": 184,
   "metadata": {
    "collapsed": false
   },
   "outputs": [
    {
     "name": "stderr",
     "output_type": "stream",
     "text": [
      "d:\\Anaconda3\\lib\\site-packages\\ipykernel\\__main__.py:7: FutureWarning: sort(columns=....) is deprecated, use sort_values(by=.....)\n",
      "d:\\Anaconda3\\lib\\site-packages\\ipykernel\\__main__.py:24: SettingWithCopyWarning: \n",
      "A value is trying to be set on a copy of a slice from a DataFrame.\n",
      "Try using .loc[row_indexer,col_indexer] = value instead\n",
      "\n",
      "See the caveats in the documentation: http://pandas.pydata.org/pandas-docs/stable/indexing.html#indexing-view-versus-copy\n"
     ]
    }
   ],
   "source": [
    "#user_info = pd.read_table('/home/azureuser/pywork/data/user_info.txt',sep=',',header=0)\n",
    "recent_user = user_info.fillna(-1)\n",
    "recent_user=recent_user.replace('NONE','-1')\n",
    "recent_user['age'] = recent_user.groupby(['user_id'])['age'].transform(max)\n",
    "#recent_user['modifycount'] = recent_user.groupby(['user_id'])['user_id'].count()\n",
    "#分组选出时间最近的用户\n",
    "recent_user_1 = (recent_user.assign(temp=recent_user.groupby(['user_id'])['tm_encode'].rank(method='first', ascending=False)).query('temp<2').sort(['tm_encode','age'],ascending=False))\n",
    "del recent_user_1['temp']\n",
    "\n",
    "age_inx = recent_user_1[recent_user_1['age']=='-1']\n",
    "recent_user_1[recent_user_1['age']=='-1']['age'] = recent_user_1['age'].mode()\n",
    "\n",
    "#增加修改次数\n",
    "tt = recent_user.groupby(['user_id'])['age'].count().to_frame('modifycount').reset_index()\n",
    "recent_user_1 = pd.merge(recent_user_1,tt,on='user_id',how='left')\n",
    "\n",
    "#增加rel2\n",
    "r = relation2.groupby(['user1_id','user2_id']).count()\n",
    "r = r.reset_index()\n",
    "r = r.groupby(['user1_id'])['relation2_type'].sum().to_frame('rel2count').reset_index()\n",
    "ttt = r.rename(columns ={'user1_id':'user_id'})\n",
    "recent_user_1 = pd.merge(recent_user_1,ttt,on='user_id',how='left')\n",
    "\n",
    "recent_user_1 = recent_user_1.fillna(0)\n",
    "\n",
    "age_inx = recent_user_1[recent_user_1['age']=='-1']\n",
    "recent_user_1[recent_user_1['age']=='-1']['age'] = recent_user_1['age'].mode()\n",
    "\n",
    "train_x = train['user_id']\n",
    "train_y = train['lable']\n",
    "test_x = test['user_id']\n",
    "\n",
    "train_input_x = train_x.to_frame('user_id')\n",
    "test_input_x = test_x.to_frame('user_id')\n",
    "train_input_x = pd.merge(train_input_x,recent_user_1,on='user_id',how='left')\n",
    "test_input_x  = pd.merge(test_input_x,recent_user_1,on='user_id',how='left')\n",
    "train = pd.merge(train,recent_user_1,on='user_id',how='left')"
   ]
  },
  {
   "cell_type": "code",
   "execution_count": 120,
   "metadata": {
    "collapsed": false
   },
   "outputs": [
    {
     "data": {
      "text/html": [
       "<div>\n",
       "<table border=\"1\" class=\"dataframe\">\n",
       "  <thead>\n",
       "    <tr style=\"text-align: right;\">\n",
       "      <th></th>\n",
       "      <th>user_id</th>\n",
       "      <th>age</th>\n",
       "      <th>sex</th>\n",
       "      <th>expect_quota</th>\n",
       "      <th>max_month_repay</th>\n",
       "      <th>occupation</th>\n",
       "      <th>education</th>\n",
       "      <th>marital_status</th>\n",
       "      <th>live_info</th>\n",
       "      <th>local_hk</th>\n",
       "      <th>...</th>\n",
       "      <th>flow</th>\n",
       "      <th>gross_profit</th>\n",
       "      <th>business_type</th>\n",
       "      <th>business_year</th>\n",
       "      <th>personnel_num</th>\n",
       "      <th>pay_type</th>\n",
       "      <th>product_id</th>\n",
       "      <th>tm_encode</th>\n",
       "      <th>modifycount</th>\n",
       "      <th>rel2count</th>\n",
       "    </tr>\n",
       "  </thead>\n",
       "  <tbody>\n",
       "    <tr>\n",
       "      <th>0</th>\n",
       "      <td>dfb0da8ea1b62548ac7983dac685162a</td>\n",
       "      <td>29</td>\n",
       "      <td>1</td>\n",
       "      <td>5000</td>\n",
       "      <td>1500.0</td>\n",
       "      <td>2</td>\n",
       "      <td>2</td>\n",
       "      <td>2</td>\n",
       "      <td>0</td>\n",
       "      <td>-1.0</td>\n",
       "      <td>...</td>\n",
       "      <td>-1.0</td>\n",
       "      <td>-1.0</td>\n",
       "      <td>-1.0</td>\n",
       "      <td>-1.0</td>\n",
       "      <td>-1.0</td>\n",
       "      <td>-1.0</td>\n",
       "      <td>2</td>\n",
       "      <td>22548595</td>\n",
       "      <td>16</td>\n",
       "      <td>NaN</td>\n",
       "    </tr>\n",
       "    <tr>\n",
       "      <th>1</th>\n",
       "      <td>ae3545fdf790a30cdb2f3862adb483c1</td>\n",
       "      <td>34</td>\n",
       "      <td>1</td>\n",
       "      <td>10000</td>\n",
       "      <td>1000.0</td>\n",
       "      <td>5</td>\n",
       "      <td>4</td>\n",
       "      <td>3</td>\n",
       "      <td>0</td>\n",
       "      <td>-1.0</td>\n",
       "      <td>...</td>\n",
       "      <td>-1.0</td>\n",
       "      <td>-1.0</td>\n",
       "      <td>-1.0</td>\n",
       "      <td>-1.0</td>\n",
       "      <td>-1.0</td>\n",
       "      <td>-1.0</td>\n",
       "      <td>2</td>\n",
       "      <td>22547175</td>\n",
       "      <td>7</td>\n",
       "      <td>NaN</td>\n",
       "    </tr>\n",
       "    <tr>\n",
       "      <th>2</th>\n",
       "      <td>b1918abb632c1d6b931541c0b3760975</td>\n",
       "      <td>25</td>\n",
       "      <td>2</td>\n",
       "      <td>8000</td>\n",
       "      <td>2500.0</td>\n",
       "      <td>2</td>\n",
       "      <td>3</td>\n",
       "      <td>1</td>\n",
       "      <td>0</td>\n",
       "      <td>-1.0</td>\n",
       "      <td>...</td>\n",
       "      <td>-1.0</td>\n",
       "      <td>-1.0</td>\n",
       "      <td>-1.0</td>\n",
       "      <td>-1.0</td>\n",
       "      <td>-1.0</td>\n",
       "      <td>-1.0</td>\n",
       "      <td>2</td>\n",
       "      <td>22545784</td>\n",
       "      <td>14</td>\n",
       "      <td>NaN</td>\n",
       "    </tr>\n",
       "    <tr>\n",
       "      <th>3</th>\n",
       "      <td>be65b02b7a59845f2b17be62a02e5fe3</td>\n",
       "      <td>22</td>\n",
       "      <td>1</td>\n",
       "      <td>30000</td>\n",
       "      <td>3000.0</td>\n",
       "      <td>2</td>\n",
       "      <td>4</td>\n",
       "      <td>1</td>\n",
       "      <td>0</td>\n",
       "      <td>-1.0</td>\n",
       "      <td>...</td>\n",
       "      <td>-1.0</td>\n",
       "      <td>-1.0</td>\n",
       "      <td>-1.0</td>\n",
       "      <td>-1.0</td>\n",
       "      <td>-1.0</td>\n",
       "      <td>-1.0</td>\n",
       "      <td>2</td>\n",
       "      <td>22541663</td>\n",
       "      <td>7</td>\n",
       "      <td>152.0</td>\n",
       "    </tr>\n",
       "    <tr>\n",
       "      <th>4</th>\n",
       "      <td>166528292c15779efc9a3d591ee65f64</td>\n",
       "      <td>26</td>\n",
       "      <td>1</td>\n",
       "      <td>20000</td>\n",
       "      <td>2000.0</td>\n",
       "      <td>2</td>\n",
       "      <td>3</td>\n",
       "      <td>3</td>\n",
       "      <td>0</td>\n",
       "      <td>-1.0</td>\n",
       "      <td>...</td>\n",
       "      <td>-1.0</td>\n",
       "      <td>-1.0</td>\n",
       "      <td>-1.0</td>\n",
       "      <td>-1.0</td>\n",
       "      <td>-1.0</td>\n",
       "      <td>-1.0</td>\n",
       "      <td>2</td>\n",
       "      <td>22540481</td>\n",
       "      <td>21</td>\n",
       "      <td>NaN</td>\n",
       "    </tr>\n",
       "  </tbody>\n",
       "</table>\n",
       "<p>5 rows × 24 columns</p>\n",
       "</div>"
      ],
      "text/plain": [
       "                            user_id age  sex  expect_quota  max_month_repay  \\\n",
       "0  dfb0da8ea1b62548ac7983dac685162a  29    1          5000           1500.0   \n",
       "1  ae3545fdf790a30cdb2f3862adb483c1  34    1         10000           1000.0   \n",
       "2  b1918abb632c1d6b931541c0b3760975  25    2          8000           2500.0   \n",
       "3  be65b02b7a59845f2b17be62a02e5fe3  22    1         30000           3000.0   \n",
       "4  166528292c15779efc9a3d591ee65f64  26    1         20000           2000.0   \n",
       "\n",
       "   occupation  education  marital_status  live_info  local_hk    ...      \\\n",
       "0           2          2               2          0      -1.0    ...       \n",
       "1           5          4               3          0      -1.0    ...       \n",
       "2           2          3               1          0      -1.0    ...       \n",
       "3           2          4               1          0      -1.0    ...       \n",
       "4           2          3               3          0      -1.0    ...       \n",
       "\n",
       "   flow  gross_profit  business_type  business_year  personnel_num  pay_type  \\\n",
       "0  -1.0          -1.0           -1.0           -1.0           -1.0      -1.0   \n",
       "1  -1.0          -1.0           -1.0           -1.0           -1.0      -1.0   \n",
       "2  -1.0          -1.0           -1.0           -1.0           -1.0      -1.0   \n",
       "3  -1.0          -1.0           -1.0           -1.0           -1.0      -1.0   \n",
       "4  -1.0          -1.0           -1.0           -1.0           -1.0      -1.0   \n",
       "\n",
       "   product_id  tm_encode  modifycount  rel2count  \n",
       "0           2   22548595           16        NaN  \n",
       "1           2   22547175            7        NaN  \n",
       "2           2   22545784           14        NaN  \n",
       "3           2   22541663            7      152.0  \n",
       "4           2   22540481           21        NaN  \n",
       "\n",
       "[5 rows x 24 columns]"
      ]
     },
     "execution_count": 120,
     "metadata": {},
     "output_type": "execute_result"
    }
   ],
   "source": [
    "recent_user_1.head(5)"
   ]
  },
  {
   "cell_type": "code",
   "execution_count": 182,
   "metadata": {
    "collapsed": false
   },
   "outputs": [],
   "source": [
    "#r = relation2.groupby(['user1_id','user2_id']).count()\n",
    "#r = r.reset_index()\n",
    "#r = r.groupby(['user1_id'])['relation2_type'].sum().to_frame('rel2count').reset_index()\n",
    "#r = r.rename(columns ={'user1_id':'user_id'})\n",
    "#r\n",
    "\n"
   ]
  },
  {
   "cell_type": "code",
   "execution_count": 185,
   "metadata": {
    "collapsed": true
   },
   "outputs": [],
   "source": [
    "rong_df = rong_tag.groupby(['user_id'])['rong_tag'].count().reset_index()\n",
    "#rong_train = rong_df[rong_df['user_id'].isin(train_x)]\n",
    "train_input_x.insert(23,'tags',0)\n",
    "test_input_x.insert(23,'tags',0)\n",
    "#recent_user.head(5)\n",
    "train_input_x['tags'] = rong_df['rong_tag'].combine_first(train_input_x['tags'])\n",
    "#tag_user = train_input_x.reset_index()\n",
    "test_input_x['tags'] = rong_df['rong_tag'].combine_first(test_input_x['tags'])"
   ]
  },
  {
   "cell_type": "code",
   "execution_count": 186,
   "metadata": {
    "collapsed": true
   },
   "outputs": [],
   "source": [
    "rr = relation1.groupby(['user1_id'])['user2_id'].count().reset_index()\n",
    "train_input_x.insert(24,'rels',0)\n",
    "test_input_x.insert(24,'rels',0)\n",
    "train_input_x['rels'] = rr['user2_id'].combine_first(train_input_x['rels'])\n",
    "#tag_user = train_input_x.reset_index()\n",
    "test_input_x['rels'] = rr['user2_id'].combine_first(test_input_x['rels'])"
   ]
  },
  {
   "cell_type": "code",
   "execution_count": 187,
   "metadata": {
    "collapsed": true
   },
   "outputs": [],
   "source": [
    "con = consum.groupby(['user_id'])['bill_id'].count().reset_index()\n",
    "train_input_x.insert(25,'cons',0)\n",
    "test_input_x.insert(25,'cons',0)\n",
    "train_input_x['cons'] = con['bill_id'].combine_first(train_input_x['cons'])\n",
    "#tag_user = train_input_x.reset_index()\n",
    "test_input_x['cons'] = con['bill_id'].combine_first(test_input_x['cons'])"
   ]
  },
  {
   "cell_type": "code",
   "execution_count": 98,
   "metadata": {
    "collapsed": false
   },
   "outputs": [],
   "source": [
    "#recent_user['age'] = recent_user.groupby(['user_id'])['age'].transform(max)\n"
   ]
  },
  {
   "cell_type": "code",
   "execution_count": 188,
   "metadata": {
    "collapsed": true
   },
   "outputs": [],
   "source": [
    "from sklearn.linear_model import LogisticRegression\n",
    "from sklearn.preprocessing import StandardScaler\n",
    "from sklearn.preprocessing import Normalizer\n",
    "from sklearn import cross_validation\n",
    "\n",
    "lr = LogisticRegression()"
   ]
  },
  {
   "cell_type": "code",
   "execution_count": 190,
   "metadata": {
    "collapsed": false
   },
   "outputs": [
    {
     "name": "stdout",
     "output_type": "stream",
     "text": [
      "[ 0.58219573  0.60596154  0.57884615  0.5975      0.59723024]\n"
     ]
    }
   ],
   "source": [
    "array_feature = ['age','salary','education','marital_status','company_type','money_function','occupation','product_id','tm_encode','tags','rels','cons','modifycount']\n",
    "train_input_x_1 = train_input_x[array_feature]\n",
    "test_input_x_1 = test_input_x[array_feature]\n",
    "#train_input_x_1 =train_input_x[[1,2,3,4,5,6,7,8,9,10,11,12,13,14,15,16,17,18,19,20,21,22,23,24,25,26]]\n",
    "#test_input_x_1 =test_input_x[[1,2,3,4,5,6,7,8,9,10,11,12,13,14,15,16,17,18,19,20,21,22,23,24,25,26]]\n",
    "X = StandardScaler().fit_transform(train_input_x_1)\n",
    "test_X = StandardScaler().fit_transform(test_input_x_1)\n",
    "lr.fit(X,train_y)\n",
    "res = lr.predict_proba(test_X)\n",
    "print(cross_validation.cross_val_score(lr,X,train_y,cv=5))"
   ]
  },
  {
   "cell_type": "code",
   "execution_count": null,
   "metadata": {
    "collapsed": false
   },
   "outputs": [],
   "source": []
  },
  {
   "cell_type": "code",
   "execution_count": 253,
   "metadata": {
    "collapsed": false
   },
   "outputs": [
    {
     "name": "stdout",
     "output_type": "stream",
     "text": [
      "             precision    recall  f1-score   support\n",
      "\n",
      "          0       0.73      0.36      0.48     13141\n",
      "          1       0.57      0.86      0.69     12859\n",
      "\n",
      "avg / total       0.65      0.61      0.58     26000\n",
      "\n"
     ]
    }
   ],
   "source": [
    "from sklearn import cross_validation\n",
    "from sklearn.ensemble import RandomForestClassifier\n",
    "model = RandomForestClassifier(n_estimators=100,max_features='log2',min_weight_fraction_leaf=0.1)\n",
    "model.fit(X,train_y)\n",
    "#scores = cross_validation.cross_val_score(model, X, train_y, cv=3)\n",
    "expected = train_y\n",
    "predicted = model.predict(X)\n",
    "\n",
    "#print(model.base_estimator_)\n",
    "\n",
    "print(metrics.classification_report(expected, predicted))\n",
    "\n",
    "#res = model.predict_proba(test_X)\n",
    "\n",
    "\n"
   ]
  },
  {
   "cell_type": "code",
   "execution_count": 133,
   "metadata": {
    "collapsed": false
   },
   "outputs": [],
   "source": [
    "import numpy as np\n",
    "result_p = res[:,1]\n",
    "data = np.array(result_p)\n",
    "df = pd.DataFrame(data)\n",
    "test_x = pd.DataFrame(test_x)\n",
    "df = df.rename(columns ={0:'probability'})\n",
    "#dataframe命名\n",
    "d = test_x.join(df)\n",
    "d.to_csv('d:\\\\data\\\\test_with_random.txt',index=False,header=True)"
   ]
  },
  {
   "cell_type": "code",
   "execution_count": 252,
   "metadata": {
    "collapsed": false
   },
   "outputs": [
    {
     "name": "stdout",
     "output_type": "stream",
     "text": [
      "             precision    recall  f1-score   support\n",
      "\n",
      "          0       0.70      0.43      0.53     13141\n",
      "          1       0.58      0.81      0.68     12859\n",
      "\n",
      "avg / total       0.64      0.62      0.60     26000\n",
      "\n"
     ]
    }
   ],
   "source": [
    "from sklearn.ensemble import AdaBoostClassifier\n",
    "model = AdaBoostClassifier()\n",
    "model.fit(X,train_y)\n",
    "\n",
    "expected = train_y\n",
    "predicted = model.predict(X)\n",
    "\n",
    "print(metrics.classification_report(expected, predicted))"
   ]
  },
  {
   "cell_type": "code",
   "execution_count": 247,
   "metadata": {
    "collapsed": false
   },
   "outputs": [
    {
     "name": "stdout",
     "output_type": "stream",
     "text": [
      "             precision    recall  f1-score   support\n",
      "\n",
      "          0       0.63      0.40      0.49     13141\n",
      "          1       0.55      0.76      0.64     12859\n",
      "\n",
      "avg / total       0.59      0.58      0.56     26000\n",
      "\n"
     ]
    }
   ],
   "source": [
    "from sklearn.naive_bayes import GaussianNB\n",
    "model = GaussianNB()\n",
    "model.fit(X,train_y)\n",
    "\n",
    "expected = train_y\n",
    "predicted = model.predict(X)\n",
    "\n",
    "print(metrics.classification_report(expected, predicted))\n"
   ]
  },
  {
   "cell_type": "code",
   "execution_count": 246,
   "metadata": {
    "collapsed": false
   },
   "outputs": [
    {
     "name": "stdout",
     "output_type": "stream",
     "text": [
      "             precision    recall  f1-score   support\n",
      "\n",
      "          0       0.74      0.40      0.52     13141\n",
      "          1       0.58      0.86      0.70     12859\n",
      "\n",
      "avg / total       0.66      0.63      0.61     26000\n",
      "\n",
      "[[ 5278  7863]\n",
      " [ 1819 11040]]\n"
     ]
    },
    {
     "data": {
      "text/plain": [
       "array([ 0.60796001,  0.61807692,  0.60538462,  0.60980769,  0.60703982])"
      ]
     },
     "execution_count": 246,
     "metadata": {},
     "output_type": "execute_result"
    }
   ],
   "source": [
    "from sklearn.neighbors import KNeighborsClassifier\n",
    "neigh = KNeighborsClassifier(n_neighbors=3)\n",
    "neigh.fit(X, train_y)\n",
    "\n",
    "expected = train_y\n",
    "predicted = model.predict(X)\n",
    "\n",
    "print(metrics.classification_report(expected, predicted))\n",
    "print(metrics.confusion_matrix(expected, predicted))\n",
    "\n",
    "score = cross_validation.cross_val_score(model, X, train_y, cv=5)\n",
    "score"
   ]
  },
  {
   "cell_type": "code",
   "execution_count": 245,
   "metadata": {
    "collapsed": false
   },
   "outputs": [
    {
     "name": "stdout",
     "output_type": "stream",
     "text": [
      "SVC(C=1.0, cache_size=200, class_weight=None, coef0=0.0,\n",
      "  decision_function_shape=None, degree=3, gamma='auto', kernel='rbf',\n",
      "  max_iter=-1, probability=False, random_state=None, shrinking=True,\n",
      "  tol=0.001, verbose=False)\n",
      "             precision    recall  f1-score   support\n",
      "\n",
      "          0       0.74      0.40      0.52     13141\n",
      "          1       0.58      0.86      0.70     12859\n",
      "\n",
      "avg / total       0.66      0.63      0.61     26000\n",
      "\n",
      "[[ 5278  7863]\n",
      " [ 1819 11040]]\n"
     ]
    },
    {
     "data": {
      "text/plain": [
       "array([ 0.60796001,  0.61807692,  0.60538462,  0.60980769,  0.60703982])"
      ]
     },
     "execution_count": 245,
     "metadata": {},
     "output_type": "execute_result"
    }
   ],
   "source": [
    "from sklearn import metrics\n",
    "from sklearn.svm import SVC\n",
    "# fit a SVM model to the data\n",
    "model = SVC()\n",
    "model.fit(X, train_y)\n",
    "print(model)\n",
    "# make predictions\n",
    "expected = train_y\n",
    "predicted = model.predict(X)\n",
    "# summarize the fit of the model\n",
    "print(metrics.classification_report(expected, predicted))\n",
    "print(metrics.confusion_matrix(expected, predicted))\n",
    "score = cross_validation.cross_val_score(model, X, train_y, cv=5)\n",
    "score"
   ]
  },
  {
   "cell_type": "code",
   "execution_count": 233,
   "metadata": {
    "collapsed": false
   },
   "outputs": [],
   "source": [
    "tt = train_input_x\n",
    "train_1 = train[train['lable']==1]\n",
    "train_0 = train[train['lable']==0]"
   ]
  },
  {
   "cell_type": "code",
   "execution_count": 234,
   "metadata": {
    "collapsed": false
   },
   "outputs": [],
   "source": [
    "ttt_1 = tt[tt['user_id'].isin(train_1['user_id'])]\n",
    "ttt_0 = tt[tt['user_id'].isin(train_0['user_id'])]"
   ]
  },
  {
   "cell_type": "code",
   "execution_count": 235,
   "metadata": {
    "collapsed": false
   },
   "outputs": [
    {
     "data": {
      "text/html": [
       "<div>\n",
       "<table border=\"1\" class=\"dataframe\">\n",
       "  <thead>\n",
       "    <tr style=\"text-align: right;\">\n",
       "      <th></th>\n",
       "      <th>user_id</th>\n",
       "      <th>age</th>\n",
       "      <th>sex</th>\n",
       "      <th>expect_quota</th>\n",
       "      <th>max_month_repay</th>\n",
       "      <th>occupation</th>\n",
       "      <th>education</th>\n",
       "      <th>marital_status</th>\n",
       "      <th>live_info</th>\n",
       "      <th>local_hk</th>\n",
       "      <th>...</th>\n",
       "      <th>business_year</th>\n",
       "      <th>personnel_num</th>\n",
       "      <th>pay_type</th>\n",
       "      <th>product_id</th>\n",
       "      <th>tm_encode</th>\n",
       "      <th>modifycount</th>\n",
       "      <th>tags</th>\n",
       "      <th>rels</th>\n",
       "      <th>cons</th>\n",
       "      <th>rel2count</th>\n",
       "    </tr>\n",
       "  </thead>\n",
       "  <tbody>\n",
       "  </tbody>\n",
       "</table>\n",
       "<p>0 rows × 27 columns</p>\n",
       "</div>"
      ],
      "text/plain": [
       "Empty DataFrame\n",
       "Columns: [user_id, age, sex, expect_quota, max_month_repay, occupation, education, marital_status, live_info, local_hk, money_function, company_type, salary, school_type, flow, gross_profit, business_type, business_year, personnel_num, pay_type, product_id, tm_encode, modifycount, tags, rels, cons, rel2count]\n",
       "Index: []\n",
       "\n",
       "[0 rows x 27 columns]"
      ]
     },
     "execution_count": 235,
     "metadata": {},
     "output_type": "execute_result"
    }
   ],
   "source": [
    "ttt_1[ttt_1['user_id']=='6c991fe85d9fcaea917f71fbdc9e384e']"
   ]
  },
  {
   "cell_type": "code",
   "execution_count": 216,
   "metadata": {
    "collapsed": false
   },
   "outputs": [
    {
     "data": {
      "text/html": [
       "<div>\n",
       "<table border=\"1\" class=\"dataframe\">\n",
       "  <thead>\n",
       "    <tr style=\"text-align: right;\">\n",
       "      <th></th>\n",
       "      <th>sex</th>\n",
       "      <th>expect_quota</th>\n",
       "      <th>max_month_repay</th>\n",
       "      <th>occupation</th>\n",
       "      <th>education</th>\n",
       "      <th>marital_status</th>\n",
       "      <th>live_info</th>\n",
       "      <th>local_hk</th>\n",
       "      <th>money_function</th>\n",
       "      <th>company_type</th>\n",
       "      <th>...</th>\n",
       "      <th>business_year</th>\n",
       "      <th>personnel_num</th>\n",
       "      <th>pay_type</th>\n",
       "      <th>product_id</th>\n",
       "      <th>tm_encode</th>\n",
       "      <th>modifycount</th>\n",
       "      <th>tags</th>\n",
       "      <th>rels</th>\n",
       "      <th>cons</th>\n",
       "      <th>rel2count</th>\n",
       "    </tr>\n",
       "  </thead>\n",
       "  <tbody>\n",
       "    <tr>\n",
       "      <th>count</th>\n",
       "      <td>13141.000000</td>\n",
       "      <td>1.314100e+04</td>\n",
       "      <td>13141.000000</td>\n",
       "      <td>13141.000000</td>\n",
       "      <td>13141.000000</td>\n",
       "      <td>13141.000000</td>\n",
       "      <td>13141.000000</td>\n",
       "      <td>13141.000000</td>\n",
       "      <td>13141.000000</td>\n",
       "      <td>13141.000000</td>\n",
       "      <td>...</td>\n",
       "      <td>13141.000000</td>\n",
       "      <td>13141.000000</td>\n",
       "      <td>13141.000000</td>\n",
       "      <td>13141.000000</td>\n",
       "      <td>1.314100e+04</td>\n",
       "      <td>13141.000000</td>\n",
       "      <td>13141.000000</td>\n",
       "      <td>13141.000000</td>\n",
       "      <td>13141.000000</td>\n",
       "      <td>13141.000000</td>\n",
       "    </tr>\n",
       "    <tr>\n",
       "      <th>mean</th>\n",
       "      <td>1.155087</td>\n",
       "      <td>1.453981e+04</td>\n",
       "      <td>634.249220</td>\n",
       "      <td>2.507572</td>\n",
       "      <td>3.301423</td>\n",
       "      <td>1.906933</td>\n",
       "      <td>2.300510</td>\n",
       "      <td>1.756487</td>\n",
       "      <td>0.416254</td>\n",
       "      <td>2.530629</td>\n",
       "      <td>...</td>\n",
       "      <td>0.188875</td>\n",
       "      <td>-0.073206</td>\n",
       "      <td>0.392512</td>\n",
       "      <td>1.174416</td>\n",
       "      <td>1.679600e+07</td>\n",
       "      <td>6.470208</td>\n",
       "      <td>26.343505</td>\n",
       "      <td>236.065748</td>\n",
       "      <td>26.457804</td>\n",
       "      <td>52.408721</td>\n",
       "    </tr>\n",
       "    <tr>\n",
       "      <th>std</th>\n",
       "      <td>0.362212</td>\n",
       "      <td>3.193961e+04</td>\n",
       "      <td>5730.183975</td>\n",
       "      <td>0.884696</td>\n",
       "      <td>0.727324</td>\n",
       "      <td>0.994933</td>\n",
       "      <td>1.680995</td>\n",
       "      <td>1.639986</td>\n",
       "      <td>1.626809</td>\n",
       "      <td>2.331195</td>\n",
       "      <td>...</td>\n",
       "      <td>1.413331</td>\n",
       "      <td>0.580215</td>\n",
       "      <td>1.455725</td>\n",
       "      <td>0.379481</td>\n",
       "      <td>5.173721e+06</td>\n",
       "      <td>2.301174</td>\n",
       "      <td>28.310304</td>\n",
       "      <td>464.273595</td>\n",
       "      <td>39.622574</td>\n",
       "      <td>125.171426</td>\n",
       "    </tr>\n",
       "    <tr>\n",
       "      <th>min</th>\n",
       "      <td>0.000000</td>\n",
       "      <td>0.000000e+00</td>\n",
       "      <td>-1.000000</td>\n",
       "      <td>0.000000</td>\n",
       "      <td>0.000000</td>\n",
       "      <td>0.000000</td>\n",
       "      <td>0.000000</td>\n",
       "      <td>-1.000000</td>\n",
       "      <td>-1.000000</td>\n",
       "      <td>0.000000</td>\n",
       "      <td>...</td>\n",
       "      <td>-1.000000</td>\n",
       "      <td>-1.000000</td>\n",
       "      <td>-1.000000</td>\n",
       "      <td>1.000000</td>\n",
       "      <td>4.804428e+06</td>\n",
       "      <td>3.000000</td>\n",
       "      <td>0.000000</td>\n",
       "      <td>1.000000</td>\n",
       "      <td>0.000000</td>\n",
       "      <td>0.000000</td>\n",
       "    </tr>\n",
       "    <tr>\n",
       "      <th>25%</th>\n",
       "      <td>1.000000</td>\n",
       "      <td>5.000000e+03</td>\n",
       "      <td>-1.000000</td>\n",
       "      <td>2.000000</td>\n",
       "      <td>3.000000</td>\n",
       "      <td>1.000000</td>\n",
       "      <td>1.000000</td>\n",
       "      <td>1.000000</td>\n",
       "      <td>0.000000</td>\n",
       "      <td>0.000000</td>\n",
       "      <td>...</td>\n",
       "      <td>0.000000</td>\n",
       "      <td>0.000000</td>\n",
       "      <td>0.000000</td>\n",
       "      <td>1.000000</td>\n",
       "      <td>1.031519e+07</td>\n",
       "      <td>6.000000</td>\n",
       "      <td>0.000000</td>\n",
       "      <td>73.000000</td>\n",
       "      <td>3.000000</td>\n",
       "      <td>0.000000</td>\n",
       "    </tr>\n",
       "    <tr>\n",
       "      <th>50%</th>\n",
       "      <td>1.000000</td>\n",
       "      <td>1.000000e+04</td>\n",
       "      <td>-1.000000</td>\n",
       "      <td>2.000000</td>\n",
       "      <td>3.000000</td>\n",
       "      <td>1.000000</td>\n",
       "      <td>3.000000</td>\n",
       "      <td>2.000000</td>\n",
       "      <td>0.000000</td>\n",
       "      <td>3.000000</td>\n",
       "      <td>...</td>\n",
       "      <td>0.000000</td>\n",
       "      <td>0.000000</td>\n",
       "      <td>0.000000</td>\n",
       "      <td>1.000000</td>\n",
       "      <td>1.938969e+07</td>\n",
       "      <td>6.000000</td>\n",
       "      <td>23.000000</td>\n",
       "      <td>143.000000</td>\n",
       "      <td>13.000000</td>\n",
       "      <td>0.000000</td>\n",
       "    </tr>\n",
       "    <tr>\n",
       "      <th>75%</th>\n",
       "      <td>1.000000</td>\n",
       "      <td>2.000000e+04</td>\n",
       "      <td>-1.000000</td>\n",
       "      <td>3.000000</td>\n",
       "      <td>4.000000</td>\n",
       "      <td>3.000000</td>\n",
       "      <td>4.000000</td>\n",
       "      <td>3.000000</td>\n",
       "      <td>0.000000</td>\n",
       "      <td>5.000000</td>\n",
       "      <td>...</td>\n",
       "      <td>0.000000</td>\n",
       "      <td>0.000000</td>\n",
       "      <td>0.000000</td>\n",
       "      <td>1.000000</td>\n",
       "      <td>2.112359e+07</td>\n",
       "      <td>7.000000</td>\n",
       "      <td>41.000000</td>\n",
       "      <td>262.000000</td>\n",
       "      <td>34.000000</td>\n",
       "      <td>30.000000</td>\n",
       "    </tr>\n",
       "    <tr>\n",
       "      <th>max</th>\n",
       "      <td>2.000000</td>\n",
       "      <td>3.000000e+06</td>\n",
       "      <td>550000.000000</td>\n",
       "      <td>5.000000</td>\n",
       "      <td>4.000000</td>\n",
       "      <td>5.000000</td>\n",
       "      <td>6.000000</td>\n",
       "      <td>4.000000</td>\n",
       "      <td>10.000000</td>\n",
       "      <td>6.000000</td>\n",
       "      <td>...</td>\n",
       "      <td>7.000000</td>\n",
       "      <td>5.000000</td>\n",
       "      <td>5.000000</td>\n",
       "      <td>2.000000</td>\n",
       "      <td>2.185386e+07</td>\n",
       "      <td>83.000000</td>\n",
       "      <td>247.000000</td>\n",
       "      <td>18637.000000</td>\n",
       "      <td>771.000000</td>\n",
       "      <td>5636.000000</td>\n",
       "    </tr>\n",
       "  </tbody>\n",
       "</table>\n",
       "<p>8 rows × 25 columns</p>\n",
       "</div>"
      ],
      "text/plain": [
       "                sex  expect_quota  max_month_repay    occupation  \\\n",
       "count  13141.000000  1.314100e+04     13141.000000  13141.000000   \n",
       "mean       1.155087  1.453981e+04       634.249220      2.507572   \n",
       "std        0.362212  3.193961e+04      5730.183975      0.884696   \n",
       "min        0.000000  0.000000e+00        -1.000000      0.000000   \n",
       "25%        1.000000  5.000000e+03        -1.000000      2.000000   \n",
       "50%        1.000000  1.000000e+04        -1.000000      2.000000   \n",
       "75%        1.000000  2.000000e+04        -1.000000      3.000000   \n",
       "max        2.000000  3.000000e+06    550000.000000      5.000000   \n",
       "\n",
       "          education  marital_status     live_info      local_hk  \\\n",
       "count  13141.000000    13141.000000  13141.000000  13141.000000   \n",
       "mean       3.301423        1.906933      2.300510      1.756487   \n",
       "std        0.727324        0.994933      1.680995      1.639986   \n",
       "min        0.000000        0.000000      0.000000     -1.000000   \n",
       "25%        3.000000        1.000000      1.000000      1.000000   \n",
       "50%        3.000000        1.000000      3.000000      2.000000   \n",
       "75%        4.000000        3.000000      4.000000      3.000000   \n",
       "max        4.000000        5.000000      6.000000      4.000000   \n",
       "\n",
       "       money_function  company_type      ...       business_year  \\\n",
       "count    13141.000000  13141.000000      ...        13141.000000   \n",
       "mean         0.416254      2.530629      ...            0.188875   \n",
       "std          1.626809      2.331195      ...            1.413331   \n",
       "min         -1.000000      0.000000      ...           -1.000000   \n",
       "25%          0.000000      0.000000      ...            0.000000   \n",
       "50%          0.000000      3.000000      ...            0.000000   \n",
       "75%          0.000000      5.000000      ...            0.000000   \n",
       "max         10.000000      6.000000      ...            7.000000   \n",
       "\n",
       "       personnel_num      pay_type    product_id     tm_encode   modifycount  \\\n",
       "count   13141.000000  13141.000000  13141.000000  1.314100e+04  13141.000000   \n",
       "mean       -0.073206      0.392512      1.174416  1.679600e+07      6.470208   \n",
       "std         0.580215      1.455725      0.379481  5.173721e+06      2.301174   \n",
       "min        -1.000000     -1.000000      1.000000  4.804428e+06      3.000000   \n",
       "25%         0.000000      0.000000      1.000000  1.031519e+07      6.000000   \n",
       "50%         0.000000      0.000000      1.000000  1.938969e+07      6.000000   \n",
       "75%         0.000000      0.000000      1.000000  2.112359e+07      7.000000   \n",
       "max         5.000000      5.000000      2.000000  2.185386e+07     83.000000   \n",
       "\n",
       "               tags          rels          cons     rel2count  \n",
       "count  13141.000000  13141.000000  13141.000000  13141.000000  \n",
       "mean      26.343505    236.065748     26.457804     52.408721  \n",
       "std       28.310304    464.273595     39.622574    125.171426  \n",
       "min        0.000000      1.000000      0.000000      0.000000  \n",
       "25%        0.000000     73.000000      3.000000      0.000000  \n",
       "50%       23.000000    143.000000     13.000000      0.000000  \n",
       "75%       41.000000    262.000000     34.000000     30.000000  \n",
       "max      247.000000  18637.000000    771.000000   5636.000000  \n",
       "\n",
       "[8 rows x 25 columns]"
      ]
     },
     "execution_count": 216,
     "metadata": {},
     "output_type": "execute_result"
    }
   ],
   "source": [
    "ttt_0.describe()"
   ]
  },
  {
   "cell_type": "code",
   "execution_count": 254,
   "metadata": {
    "collapsed": false
   },
   "outputs": [
    {
     "data": {
      "text/plain": [
       "array(['41', 'NONE', '46', '28', '34', '25', '33', '29', '31', '27', '39',\n",
       "       '36', '37', '23', '35', '30', '26', '40', '45', '44', '32', '24',\n",
       "       '22', '21', '42', '48', '20', '38', '19', '53', '47', '49', '43',\n",
       "       '57', '51', '18', '17', '52', '50', '55', '54', '98', '64', '56',\n",
       "       '66'], dtype=object)"
      ]
     },
     "execution_count": 254,
     "metadata": {},
     "output_type": "execute_result"
    }
   ],
   "source": [
    "user_info['age'].unique()"
   ]
  },
  {
   "cell_type": "code",
   "execution_count": 283,
   "metadata": {
    "collapsed": false
   },
   "outputs": [],
   "source": [
    "train_user  = pd.merge(train,train_input_x,on='user_id',how='left')"
   ]
  },
  {
   "cell_type": "code",
   "execution_count": 284,
   "metadata": {
    "collapsed": false
   },
   "outputs": [],
   "source": [
    "array_feature = ['lable','sex','age','salary','education','marital_status','company_type','money_function','occupation','product_id','tags','rels','cons','modifycount']\n",
    "train_user = train_user[array_feature]"
   ]
  },
  {
   "cell_type": "code",
   "execution_count": 285,
   "metadata": {
    "collapsed": false
   },
   "outputs": [
    {
     "data": {
      "text/plain": [
       "lable             1.000000\n",
       "sex               0.015212\n",
       "salary            0.007925\n",
       "education        -0.007624\n",
       "marital_status    0.031464\n",
       "company_type     -0.002416\n",
       "money_function    0.019309\n",
       "occupation        0.005891\n",
       "product_id        0.008261\n",
       "tags              0.003296\n",
       "rels             -0.004895\n",
       "cons             -0.010323\n",
       "modifycount       0.026394\n",
       "Name: lable, dtype: float64"
      ]
     },
     "execution_count": 285,
     "metadata": {},
     "output_type": "execute_result"
    }
   ],
   "source": [
    "train_user.corr()['lable']"
   ]
  }
 ],
 "metadata": {
  "anaconda-cloud": {},
  "kernelspec": {
   "display_name": "Python [Root]",
   "language": "python",
   "name": "Python [Root]"
  },
  "language_info": {
   "codemirror_mode": {
    "name": "ipython",
    "version": 3
   },
   "file_extension": ".py",
   "mimetype": "text/x-python",
   "name": "python",
   "nbconvert_exporter": "python",
   "pygments_lexer": "ipython3",
   "version": "3.5.2"
  }
 },
 "nbformat": 4,
 "nbformat_minor": 0
}
